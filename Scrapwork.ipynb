{
 "cells": [
  {
   "cell_type": "code",
   "execution_count": null,
   "metadata": {
    "collapsed": true
   },
   "outputs": [],
   "source": [
    "re.findall(r'<cite>(.+?)</cite>',str(test2[13]))[0]\n",
    "\n",
    "re.findall(r'\\xa0(.+?)</th>',str(test2[13]))\n",
    "\n",
    "re.findall(r'\\xa0(.+?)\\r',str(test2[6]))[-1]\n",
    "\n",
    "[re.findall(r'\\xa0(.+?)\\r',str(x)) for x in test2[2:]]\n",
    "\n",
    "[re.findall(r'\\xa0(.+?)\\r',str(x)) for x in test2[2:]][60]\n",
    "\n",
    "[re.findall(r'<cite>(.+?)</cite>',str(x)) for x in test2[2:]][58]\n",
    "\n",
    "[re.findall(r'\\xa0(.+?)\\r',str(x)) for x in test2[2:]]\n",
    "\n",
    "price_list = []\n",
    "for y in [re.findall(r'\\xa0(.+?)\\r',str(x)) for x in test2[2:]]:\n",
    "    try:\n",
    "        price_list.append(y[1])\n",
    "    except:\n",
    "        price_list.append(\"\")     \n",
    "    \n",
    "\n",
    "[re.findall(r'<cite>(.+?)</cite>',str(x)) for x in test2[2:]]\n",
    "\n",
    "def createItemList(bsoup_list,regexp,element):\n",
    "    new_list = []\n",
    "    for y in [re.findall(regexp,str(x)) for x in bsoup_list]:\n",
    "        try:\n",
    "            new_list.append(y[element])\n",
    "        except:\n",
    "            new_list.append(\"\")    \n",
    "    \n",
    "    return new_list\n",
    "\n",
    "price_list2 = createItemList(test2[2:],r'\\xa0(.+?)\\r',1)\n",
    "price_list2\n",
    "\n",
    "price_list = []\n",
    "for y in [re.findall(r'\\xa0(.+?)\\r',str(x)) for x in test2[2:]]:\n",
    "    try:\n",
    "        price_list.append(y[1])\n",
    "    except:\n",
    "        price_list.append(\"\")     \n",
    "    \n",
    "\n",
    "\n",
    "\n"
   ]
  }
 ],
 "metadata": {
  "anaconda-cloud": {},
  "kernelspec": {
   "display_name": "Python [conda env:my_projects_env]",
   "language": "python",
   "name": "conda-env-my_projects_env-py"
  },
  "language_info": {
   "codemirror_mode": {
    "name": "ipython",
    "version": 2
   },
   "file_extension": ".py",
   "mimetype": "text/x-python",
   "name": "python",
   "nbconvert_exporter": "python",
   "pygments_lexer": "ipython2",
   "version": "2.7.12"
  }
 },
 "nbformat": 4,
 "nbformat_minor": 1
}

{
 "cells": [
  {
   "cell_type": "code",
   "execution_count": 107,
   "metadata": {
    "collapsed": true
   },
   "outputs": [],
   "source": [
    "from lxml import html\n",
    "import requests\n",
    "from bs4 import BeautifulSoup\n",
    "import re\n",
    "import time\n",
    "import pandas as pd\n",
    "import pickle\n",
    "import numpy as np\n",
    "\n",
    "import nltk\n",
    "import gensim\n",
    "from unidecode import unidecode\n",
    "import string"
   ]
  },
  {
   "cell_type": "markdown",
   "metadata": {},
   "source": [
    "# Getting the data"
   ]
  },
  {
   "cell_type": "code",
   "execution_count": null,
   "metadata": {
    "collapsed": true
   },
   "outputs": [],
   "source": [
    "t0 = time.time()\n",
    "\n",
    "food_categories = ['american','american-new','german','crepes','french','burgers','deli']#'asianfusion','californian','chinese','dim-sum','sandwiches'\n",
    "\n",
    "headers = {'User-Agent': 'Mozilla/5.0 (Macintosh; Intel Mac OS X 10_10_1) AppleWebKit/537.36 (KHTML, like Gecko) Chrome/39.0.2171.95 Safari/537.36'}\n",
    "\n",
    "base_url = url = 'http://www.allmenus.com/ca/san-francisco/'\n",
    "\n",
    "rest_url_list = []\n",
    "category_list = []\n",
    "\n",
    "print 'Scraping for urls'\n",
    "for fcat in food_categories:\n",
    "    # Get all the restaurants that food category falls into\n",
    "    top_page = requests.get(base_url + '-/' + fcat + '/',headers=headers)\n",
    "    \n",
    "    # Turn it into a BeautifulSoup object\n",
    "    top_soup= BeautifulSoup(top_page.text, \"lxml\")\n",
    "    all_rest_links = top_soup.findAll(\"p\",{\"class\",\"restaurant_name\"})\n",
    "    \n",
    "    for rest in all_rest_links:\n",
    "        rest_url_list.append(rest.find('a')['href'])\n",
    "        category_list.append(fcat)\n",
    "    \n",
    "print 'URLs obtained, time to scrape for menus'"
   ]
  },
  {
   "cell_type": "code",
   "execution_count": 50,
   "metadata": {
    "collapsed": true
   },
   "outputs": [],
   "source": [
    "def scrape_menus(rest_url_list,category_list):\n",
    "\n",
    "    t0 = time.time()\n",
    "\n",
    "    item_list = []\n",
    "    i=1\n",
    "    for url,fcat in zip(rest_url_list,category_list):\n",
    "        #print \"Scraping restaurant %d\"%(i)\n",
    "\n",
    "        page = requests.get('http://www.allmenus.com'+url,headers=headers)\n",
    "        soup = BeautifulSoup(page.text, \"lxml\")\n",
    "\n",
    "        # Extract restaurant name\n",
    "        name = unidecode(soup.find(\"h1\", {\"itemprop\":\"name\"}).text)\n",
    "\n",
    "        # Extract street address\n",
    "        saddr = unidecode(soup.find(\"span\",{\"itemprop\":\"streetAddress\"}).text)\n",
    "\n",
    "        # Extract the city\n",
    "        city = unidecode(soup.find(\"span\",{\"itemprop\":\"addressLocality\"}).text)\n",
    "\n",
    "        # Extract the state\n",
    "        state = unidecode(soup.find(\"span\",{\"itemprop\":\"addressRegion\"}).text)\n",
    "\n",
    "        # Extract the zip code\n",
    "        zipc = unidecode(soup.find(\"span\",{\"itemprop\":\"postalCode\"}).text)\n",
    "\n",
    "        # Extract yelp rating\n",
    "        try:\n",
    "            yelp_rating = float(soup.find(\"meta\",{\"itemprop\":\"ratingValue\"})['content'])\n",
    "        except:\n",
    "            yelp_rating = None\n",
    "\n",
    "        # Extract number of yelp reviews\n",
    "        try:\n",
    "            num_yelp_reviews = int(soup.find(\"meta\",{\"itemprop\":\"reviewCount\"})['content'])\n",
    "        except:\n",
    "            num_yelp_reviews = None\n",
    "\n",
    "        # Get the yelp link\n",
    "        try:\n",
    "            yelp_link = soup.find(\"span\",{\"class\":\"review_count\"}).find('a')['href']\n",
    "        except:\n",
    "            yelp_link = None\n",
    "\n",
    "        all_categories = soup.find_all(\"div\",{\"class\":\"category\"})\n",
    "\n",
    "        for cat in all_categories:\n",
    "            category_name = unidecode(cat.find(\"div\",{\"class\":\"category_head\"}).h3.text)\n",
    "            category_description = unidecode(cat.find(\"div\",{\"class\":\"category_head\"}).p.text)\n",
    "\n",
    "            all_menu_items_in_category = cat.find_all(\"li\",{\"class\":\"menu_item\"})\n",
    "\n",
    "            for menu_item in all_menu_items_in_category:\n",
    "                item_name = unidecode(menu_item.find(\"span\",{\"class\":\"name\"}).text)\n",
    "                item_description = unidecode(menu_item.find(\"p\",{\"class\":\"description\"}).text)\n",
    "                try:\n",
    "                    item_price = unidecode(menu_item.find(\"span\",{\"class\":\"price\"}).text)\n",
    "                except:\n",
    "                    item_price = []\n",
    "\n",
    "                new_item = {'restaurant_name':name, 'item_name':item_name,'item_description':item_description,'item_price':item_price,'category_name'\n",
    "                        :category_name,'category_description':category_description,'street_address':saddr,'city':city,\n",
    "                        'state':state,'zip':zipc,'full_address':\", \".join([saddr,city,state,zipc]),\"yelp_rating\":yelp_rating,\n",
    "                       'num_reviews':num_yelp_reviews,'yelp_link':yelp_link,'restaurant_category':fcat}\n",
    "                item_list.append(new_item)\n",
    "        i+=1\n",
    "\n",
    "    all_menus_rest_df = pd.DataFrame(item_list)\n",
    "    del item_list\n",
    "    return all_menus_rest_df\n",
    "    t1 = time.time()\n",
    "    print str(t1-t0) + 'seconds'"
   ]
  },
  {
   "cell_type": "markdown",
   "metadata": {},
   "source": [
    "Load the pickled dataframe"
   ]
  },
  {
   "cell_type": "code",
   "execution_count": 2,
   "metadata": {
    "collapsed": true
   },
   "outputs": [],
   "source": [
    "all_menus_rest_df = pd.read_pickle('all_menus_rest_df.p')"
   ]
  },
  {
   "cell_type": "markdown",
   "metadata": {},
   "source": [
    "Remove all the duplicated entries (same restaurant, same address, same menu item)"
   ]
  },
  {
   "cell_type": "code",
   "execution_count": 46,
   "metadata": {
    "collapsed": false
   },
   "outputs": [],
   "source": [
    "all_menus_drop_dup = all_menus_rest_df.drop_duplicates(['restaurant_name','item_name','street_address'])"
   ]
  },
  {
   "cell_type": "markdown",
   "metadata": {},
   "source": [
    "Get the menu for Ti Couz"
   ]
  },
  {
   "cell_type": "code",
   "execution_count": 56,
   "metadata": {
    "collapsed": false
   },
   "outputs": [],
   "source": [
    "ti_couz_df = scrape_menus(['/ca/san-francisco/157991-ti-couz/menu/'],'crepes')"
   ]
  },
  {
   "cell_type": "markdown",
   "metadata": {},
   "source": [
    "Do some basic clean up for my example"
   ]
  },
  {
   "cell_type": "code",
   "execution_count": 79,
   "metadata": {
    "collapsed": false
   },
   "outputs": [
    {
     "name": "stderr",
     "output_type": "stream",
     "text": [
      "/home/harisk87/anaconda2/envs/my_projects_env/lib/python2.7/site-packages/ipykernel/__main__.py:1: SettingWithCopyWarning: \n",
      "A value is trying to be set on a copy of a slice from a DataFrame\n",
      "\n",
      "See the caveats in the documentation: http://pandas.pydata.org/pandas-docs/stable/indexing.html#indexing-view-versus-copy\n",
      "  if __name__ == '__main__':\n"
     ]
    }
   ],
   "source": [
    "ti_couz_df.item_description[(ti_couz_df.category_name=='Krampouz Ble Noir - Savory Crepe')] = ti_couz_df.item_description[(ti_couz_df.category_name=='Krampouz Ble Noir - Savory Crepe')] + \" savory crepe\" "
   ]
  },
  {
   "cell_type": "code",
   "execution_count": 89,
   "metadata": {
    "collapsed": false,
    "scrolled": true
   },
   "outputs": [
    {
     "name": "stderr",
     "output_type": "stream",
     "text": [
      "/home/harisk87/anaconda2/envs/my_projects_env/lib/python2.7/site-packages/ipykernel/__main__.py:1: SettingWithCopyWarning: \n",
      "A value is trying to be set on a copy of a slice from a DataFrame\n",
      "\n",
      "See the caveats in the documentation: http://pandas.pydata.org/pandas-docs/stable/indexing.html#indexing-view-versus-copy\n",
      "  if __name__ == '__main__':\n"
     ]
    }
   ],
   "source": [
    "ti_couz_df.item_description[ti_couz_df.category_name=='Krampouz Froment - Sweet Crepe'] = ti_couz_df.item_description[ti_couz_df.category_name=='Krampouz Froment - Sweet Crepe'] +  \" sweet crepe\"  "
   ]
  },
  {
   "cell_type": "markdown",
   "metadata": {},
   "source": [
    "Merge the main dataframe with the Ti couz one"
   ]
  },
  {
   "cell_type": "code",
   "execution_count": 93,
   "metadata": {
    "collapsed": false
   },
   "outputs": [],
   "source": [
    "all_menus_drop_dup = pd.concat([all_menus_drop_dup,ti_couz_df])"
   ]
  },
  {
   "cell_type": "code",
   "execution_count": 104,
   "metadata": {
    "collapsed": true
   },
   "outputs": [],
   "source": [
    "all_menus_drop_dup['item_name_and_description'] = all_menus_drop_dup.item_name.map(str) + \" \" + all_menus_drop_dup.item_description.map(str)"
   ]
  },
  {
   "cell_type": "code",
   "execution_count": 132,
   "metadata": {
    "collapsed": false
   },
   "outputs": [],
   "source": [
    "def removePunctuation(df,col_name):\n",
    "    out_df = df[col_name].apply(lambda x: x.translate(string.maketrans(\"\",\"\"), string.punctuation))\n",
    "    return out_df"
   ]
  },
  {
   "cell_type": "code",
   "execution_count": 133,
   "metadata": {
    "collapsed": false
   },
   "outputs": [],
   "source": [
    "def tokenize(df,col_name):\n",
    "    out_df = df[col_name].apply(lambda x: x.split())\n",
    "    return out_df"
   ]
  },
  {
   "cell_type": "code",
   "execution_count": 131,
   "metadata": {
    "collapsed": false
   },
   "outputs": [],
   "source": [
    "def removeStopWordsMakeLowerCase(df,col_name):\n",
    "    out_df = df[col_name].apply(lambda x: [i.lower() for i in x if i.lower() not in nltk.corpus.stopwords.words('english')]) \n",
    "    return out_df"
   ]
  },
  {
   "cell_type": "code",
   "execution_count": 134,
   "metadata": {
    "collapsed": true
   },
   "outputs": [],
   "source": [
    "def lemmatize(df,col_name):\n",
    "    from nltk.stem.wordnet import WordNetLemmatizer\n",
    "    lmtzr = WordNetLemmatizer()\n",
    "    out_df = [[lmtzr.lemmatize(unicode(i)) for i in x] for x in df[col_name]]\n",
    "    return out_df"
   ]
  },
  {
   "cell_type": "code",
   "execution_count": 135,
   "metadata": {
    "collapsed": true
   },
   "outputs": [],
   "source": [
    "def removeDuplicateWords(df,col_name):\n",
    "    out_df = [list(set(i)) for i in df[col_name]]\n",
    "    return out_df"
   ]
  },
  {
   "cell_type": "code",
   "execution_count": 122,
   "metadata": {
    "collapsed": false
   },
   "outputs": [],
   "source": [
    "test = [[lmtzr.lemmatize(unicode(i)) for i in x] for x in test]"
   ]
  },
  {
   "cell_type": "code",
   "execution_count": 146,
   "metadata": {
    "collapsed": false
   },
   "outputs": [],
   "source": [
    "test = all_menus_drop_dup.tail()"
   ]
  },
  {
   "cell_type": "code",
   "execution_count": 138,
   "metadata": {
    "collapsed": false
   },
   "outputs": [
    {
     "name": "stderr",
     "output_type": "stream",
     "text": [
      "/home/harisk87/anaconda2/envs/my_projects_env/lib/python2.7/site-packages/pandas/core/generic.py:2701: SettingWithCopyWarning: \n",
      "A value is trying to be set on a copy of a slice from a DataFrame.\n",
      "Try using .loc[row_indexer,col_indexer] = value instead\n",
      "\n",
      "See the caveats in the documentation: http://pandas.pydata.org/pandas-docs/stable/indexing.html#indexing-view-versus-copy\n",
      "  self[name] = value\n"
     ]
    },
    {
     "ename": "AttributeError",
     "evalue": "'NoneType' object has no attribute 'split'",
     "output_type": "error",
     "traceback": [
      "\u001b[1;31m---------------------------------------------------------------------------\u001b[0m",
      "\u001b[1;31mAttributeError\u001b[0m                            Traceback (most recent call last)",
      "\u001b[1;32m<ipython-input-138-99701f5aea7f>\u001b[0m in \u001b[0;36m<module>\u001b[1;34m()\u001b[0m\n\u001b[0;32m      1\u001b[0m \u001b[0mtest\u001b[0m\u001b[1;33m.\u001b[0m\u001b[0mitem_description\u001b[0m \u001b[1;33m=\u001b[0m \u001b[0mremovePunctuation\u001b[0m\u001b[1;33m(\u001b[0m\u001b[0mtest\u001b[0m\u001b[1;33m,\u001b[0m\u001b[1;34m'item_description'\u001b[0m\u001b[1;33m)\u001b[0m\u001b[1;33m\u001b[0m\u001b[0m\n\u001b[1;32m----> 2\u001b[1;33m \u001b[0mtest\u001b[0m\u001b[1;33m.\u001b[0m\u001b[0mitem_description\u001b[0m \u001b[1;33m=\u001b[0m \u001b[0mtokenize\u001b[0m\u001b[1;33m(\u001b[0m\u001b[0mtest\u001b[0m\u001b[1;33m,\u001b[0m\u001b[1;34m'item_description'\u001b[0m\u001b[1;33m)\u001b[0m\u001b[1;33m\u001b[0m\u001b[0m\n\u001b[0m\u001b[0;32m      3\u001b[0m \u001b[0mtest\u001b[0m\u001b[1;33m.\u001b[0m\u001b[0mitem_description\u001b[0m \u001b[1;33m=\u001b[0m \u001b[0mremoveStopWordsMakeLowerCase\u001b[0m\u001b[1;33m(\u001b[0m\u001b[0mtest\u001b[0m\u001b[1;33m,\u001b[0m\u001b[1;34m'item_description'\u001b[0m\u001b[1;33m)\u001b[0m\u001b[1;33m\u001b[0m\u001b[0m\n\u001b[0;32m      4\u001b[0m \u001b[0mtest\u001b[0m\u001b[1;33m.\u001b[0m\u001b[0mitem_description\u001b[0m \u001b[1;33m=\u001b[0m \u001b[0mlemmatize\u001b[0m\u001b[1;33m(\u001b[0m\u001b[0mtest\u001b[0m\u001b[1;33m,\u001b[0m\u001b[1;34m'item_description'\u001b[0m\u001b[1;33m)\u001b[0m\u001b[1;33m\u001b[0m\u001b[0m\n\u001b[0;32m      5\u001b[0m \u001b[0mtest\u001b[0m\u001b[1;33m.\u001b[0m\u001b[0mitem_description\u001b[0m \u001b[1;33m=\u001b[0m \u001b[0mremoveDuplicateWords\u001b[0m\u001b[1;33m(\u001b[0m\u001b[0mtest\u001b[0m\u001b[1;33m,\u001b[0m\u001b[1;34m'item_description'\u001b[0m\u001b[1;33m)\u001b[0m\u001b[1;33m\u001b[0m\u001b[0m\n",
      "\u001b[1;32m<ipython-input-133-75a3f74e12e8>\u001b[0m in \u001b[0;36mtokenize\u001b[1;34m(df, col_name)\u001b[0m\n\u001b[0;32m      1\u001b[0m \u001b[1;32mdef\u001b[0m \u001b[0mtokenize\u001b[0m\u001b[1;33m(\u001b[0m\u001b[0mdf\u001b[0m\u001b[1;33m,\u001b[0m\u001b[0mcol_name\u001b[0m\u001b[1;33m)\u001b[0m\u001b[1;33m:\u001b[0m\u001b[1;33m\u001b[0m\u001b[0m\n\u001b[1;32m----> 2\u001b[1;33m     \u001b[0mout_df\u001b[0m \u001b[1;33m=\u001b[0m \u001b[0mdf\u001b[0m\u001b[1;33m[\u001b[0m\u001b[0mcol_name\u001b[0m\u001b[1;33m]\u001b[0m\u001b[1;33m.\u001b[0m\u001b[0mapply\u001b[0m\u001b[1;33m(\u001b[0m\u001b[1;32mlambda\u001b[0m \u001b[0mx\u001b[0m\u001b[1;33m:\u001b[0m \u001b[0mx\u001b[0m\u001b[1;33m.\u001b[0m\u001b[0msplit\u001b[0m\u001b[1;33m(\u001b[0m\u001b[1;33m)\u001b[0m\u001b[1;33m)\u001b[0m\u001b[1;33m\u001b[0m\u001b[0m\n\u001b[0m",
      "\u001b[1;32m/home/harisk87/anaconda2/envs/my_projects_env/lib/python2.7/site-packages/pandas/core/series.pyc\u001b[0m in \u001b[0;36mapply\u001b[1;34m(self, func, convert_dtype, args, **kwds)\u001b[0m\n\u001b[0;32m   2218\u001b[0m         \u001b[1;32melse\u001b[0m\u001b[1;33m:\u001b[0m\u001b[1;33m\u001b[0m\u001b[0m\n\u001b[0;32m   2219\u001b[0m             \u001b[0mvalues\u001b[0m \u001b[1;33m=\u001b[0m \u001b[0mself\u001b[0m\u001b[1;33m.\u001b[0m\u001b[0masobject\u001b[0m\u001b[1;33m\u001b[0m\u001b[0m\n\u001b[1;32m-> 2220\u001b[1;33m             \u001b[0mmapped\u001b[0m \u001b[1;33m=\u001b[0m \u001b[0mlib\u001b[0m\u001b[1;33m.\u001b[0m\u001b[0mmap_infer\u001b[0m\u001b[1;33m(\u001b[0m\u001b[0mvalues\u001b[0m\u001b[1;33m,\u001b[0m \u001b[0mf\u001b[0m\u001b[1;33m,\u001b[0m \u001b[0mconvert\u001b[0m\u001b[1;33m=\u001b[0m\u001b[0mconvert_dtype\u001b[0m\u001b[1;33m)\u001b[0m\u001b[1;33m\u001b[0m\u001b[0m\n\u001b[0m\u001b[0;32m   2221\u001b[0m \u001b[1;33m\u001b[0m\u001b[0m\n\u001b[0;32m   2222\u001b[0m         \u001b[1;32mif\u001b[0m \u001b[0mlen\u001b[0m\u001b[1;33m(\u001b[0m\u001b[0mmapped\u001b[0m\u001b[1;33m)\u001b[0m \u001b[1;32mand\u001b[0m \u001b[0misinstance\u001b[0m\u001b[1;33m(\u001b[0m\u001b[0mmapped\u001b[0m\u001b[1;33m[\u001b[0m\u001b[1;36m0\u001b[0m\u001b[1;33m]\u001b[0m\u001b[1;33m,\u001b[0m \u001b[0mSeries\u001b[0m\u001b[1;33m)\u001b[0m\u001b[1;33m:\u001b[0m\u001b[1;33m\u001b[0m\u001b[0m\n",
      "\u001b[1;32mpandas/src/inference.pyx\u001b[0m in \u001b[0;36mpandas.lib.map_infer (pandas/lib.c:62658)\u001b[1;34m()\u001b[0m\n",
      "\u001b[1;32m<ipython-input-133-75a3f74e12e8>\u001b[0m in \u001b[0;36m<lambda>\u001b[1;34m(x)\u001b[0m\n\u001b[0;32m      1\u001b[0m \u001b[1;32mdef\u001b[0m \u001b[0mtokenize\u001b[0m\u001b[1;33m(\u001b[0m\u001b[0mdf\u001b[0m\u001b[1;33m,\u001b[0m\u001b[0mcol_name\u001b[0m\u001b[1;33m)\u001b[0m\u001b[1;33m:\u001b[0m\u001b[1;33m\u001b[0m\u001b[0m\n\u001b[1;32m----> 2\u001b[1;33m     \u001b[0mout_df\u001b[0m \u001b[1;33m=\u001b[0m \u001b[0mdf\u001b[0m\u001b[1;33m[\u001b[0m\u001b[0mcol_name\u001b[0m\u001b[1;33m]\u001b[0m\u001b[1;33m.\u001b[0m\u001b[0mapply\u001b[0m\u001b[1;33m(\u001b[0m\u001b[1;32mlambda\u001b[0m \u001b[0mx\u001b[0m\u001b[1;33m:\u001b[0m \u001b[0mx\u001b[0m\u001b[1;33m.\u001b[0m\u001b[0msplit\u001b[0m\u001b[1;33m(\u001b[0m\u001b[1;33m)\u001b[0m\u001b[1;33m)\u001b[0m\u001b[1;33m\u001b[0m\u001b[0m\n\u001b[0m",
      "\u001b[1;31mAttributeError\u001b[0m: 'NoneType' object has no attribute 'split'"
     ]
    }
   ],
   "source": [
    "test.item_description = removePunctuation(test,'item_description')\n",
    "test.item_description = tokenize(test,'item_description')\n",
    "test.item_description = removeStopWordsMakeLowerCase(test,'item_description')\n",
    "test.item_description = lemmatize(test,'item_description')\n",
    "test.item_description = removeDuplicateWords(test,'item_description')\n",
    "test.item_description"
   ]
  },
  {
   "cell_type": "code",
   "execution_count": 140,
   "metadata": {
    "collapsed": true
   },
   "outputs": [],
   "source": [
    "test.item_description = removePunctuation(test,'item_description')\n"
   ]
  },
  {
   "cell_type": "code",
   "execution_count": 143,
   "metadata": {
    "collapsed": false
   },
   "outputs": [
    {
     "ename": "AttributeError",
     "evalue": "'NoneType' object has no attribute 'split'",
     "output_type": "error",
     "traceback": [
      "\u001b[1;31m---------------------------------------------------------------------------\u001b[0m",
      "\u001b[1;31mAttributeError\u001b[0m                            Traceback (most recent call last)",
      "\u001b[1;32m<ipython-input-143-66ab0dcb55fc>\u001b[0m in \u001b[0;36m<module>\u001b[1;34m()\u001b[0m\n\u001b[1;32m----> 1\u001b[1;33m \u001b[0mtest\u001b[0m\u001b[1;33m.\u001b[0m\u001b[0mitem_description\u001b[0m \u001b[1;33m=\u001b[0m  \u001b[0mtokenize\u001b[0m\u001b[1;33m(\u001b[0m\u001b[0mtest\u001b[0m\u001b[1;33m,\u001b[0m\u001b[1;34m'item_description'\u001b[0m\u001b[1;33m)\u001b[0m\u001b[1;33m\u001b[0m\u001b[0m\n\u001b[0m",
      "\u001b[1;32m<ipython-input-133-75a3f74e12e8>\u001b[0m in \u001b[0;36mtokenize\u001b[1;34m(df, col_name)\u001b[0m\n\u001b[0;32m      1\u001b[0m \u001b[1;32mdef\u001b[0m \u001b[0mtokenize\u001b[0m\u001b[1;33m(\u001b[0m\u001b[0mdf\u001b[0m\u001b[1;33m,\u001b[0m\u001b[0mcol_name\u001b[0m\u001b[1;33m)\u001b[0m\u001b[1;33m:\u001b[0m\u001b[1;33m\u001b[0m\u001b[0m\n\u001b[1;32m----> 2\u001b[1;33m     \u001b[0mout_df\u001b[0m \u001b[1;33m=\u001b[0m \u001b[0mdf\u001b[0m\u001b[1;33m[\u001b[0m\u001b[0mcol_name\u001b[0m\u001b[1;33m]\u001b[0m\u001b[1;33m.\u001b[0m\u001b[0mapply\u001b[0m\u001b[1;33m(\u001b[0m\u001b[1;32mlambda\u001b[0m \u001b[0mx\u001b[0m\u001b[1;33m:\u001b[0m \u001b[0mx\u001b[0m\u001b[1;33m.\u001b[0m\u001b[0msplit\u001b[0m\u001b[1;33m(\u001b[0m\u001b[1;33m)\u001b[0m\u001b[1;33m)\u001b[0m\u001b[1;33m\u001b[0m\u001b[0m\n\u001b[0m",
      "\u001b[1;32m/home/harisk87/anaconda2/envs/my_projects_env/lib/python2.7/site-packages/pandas/core/series.pyc\u001b[0m in \u001b[0;36mapply\u001b[1;34m(self, func, convert_dtype, args, **kwds)\u001b[0m\n\u001b[0;32m   2218\u001b[0m         \u001b[1;32melse\u001b[0m\u001b[1;33m:\u001b[0m\u001b[1;33m\u001b[0m\u001b[0m\n\u001b[0;32m   2219\u001b[0m             \u001b[0mvalues\u001b[0m \u001b[1;33m=\u001b[0m \u001b[0mself\u001b[0m\u001b[1;33m.\u001b[0m\u001b[0masobject\u001b[0m\u001b[1;33m\u001b[0m\u001b[0m\n\u001b[1;32m-> 2220\u001b[1;33m             \u001b[0mmapped\u001b[0m \u001b[1;33m=\u001b[0m \u001b[0mlib\u001b[0m\u001b[1;33m.\u001b[0m\u001b[0mmap_infer\u001b[0m\u001b[1;33m(\u001b[0m\u001b[0mvalues\u001b[0m\u001b[1;33m,\u001b[0m \u001b[0mf\u001b[0m\u001b[1;33m,\u001b[0m \u001b[0mconvert\u001b[0m\u001b[1;33m=\u001b[0m\u001b[0mconvert_dtype\u001b[0m\u001b[1;33m)\u001b[0m\u001b[1;33m\u001b[0m\u001b[0m\n\u001b[0m\u001b[0;32m   2221\u001b[0m \u001b[1;33m\u001b[0m\u001b[0m\n\u001b[0;32m   2222\u001b[0m         \u001b[1;32mif\u001b[0m \u001b[0mlen\u001b[0m\u001b[1;33m(\u001b[0m\u001b[0mmapped\u001b[0m\u001b[1;33m)\u001b[0m \u001b[1;32mand\u001b[0m \u001b[0misinstance\u001b[0m\u001b[1;33m(\u001b[0m\u001b[0mmapped\u001b[0m\u001b[1;33m[\u001b[0m\u001b[1;36m0\u001b[0m\u001b[1;33m]\u001b[0m\u001b[1;33m,\u001b[0m \u001b[0mSeries\u001b[0m\u001b[1;33m)\u001b[0m\u001b[1;33m:\u001b[0m\u001b[1;33m\u001b[0m\u001b[0m\n",
      "\u001b[1;32mpandas/src/inference.pyx\u001b[0m in \u001b[0;36mpandas.lib.map_infer (pandas/lib.c:62658)\u001b[1;34m()\u001b[0m\n",
      "\u001b[1;32m<ipython-input-133-75a3f74e12e8>\u001b[0m in \u001b[0;36m<lambda>\u001b[1;34m(x)\u001b[0m\n\u001b[0;32m      1\u001b[0m \u001b[1;32mdef\u001b[0m \u001b[0mtokenize\u001b[0m\u001b[1;33m(\u001b[0m\u001b[0mdf\u001b[0m\u001b[1;33m,\u001b[0m\u001b[0mcol_name\u001b[0m\u001b[1;33m)\u001b[0m\u001b[1;33m:\u001b[0m\u001b[1;33m\u001b[0m\u001b[0m\n\u001b[1;32m----> 2\u001b[1;33m     \u001b[0mout_df\u001b[0m \u001b[1;33m=\u001b[0m \u001b[0mdf\u001b[0m\u001b[1;33m[\u001b[0m\u001b[0mcol_name\u001b[0m\u001b[1;33m]\u001b[0m\u001b[1;33m.\u001b[0m\u001b[0mapply\u001b[0m\u001b[1;33m(\u001b[0m\u001b[1;32mlambda\u001b[0m \u001b[0mx\u001b[0m\u001b[1;33m:\u001b[0m \u001b[0mx\u001b[0m\u001b[1;33m.\u001b[0m\u001b[0msplit\u001b[0m\u001b[1;33m(\u001b[0m\u001b[1;33m)\u001b[0m\u001b[1;33m)\u001b[0m\u001b[1;33m\u001b[0m\u001b[0m\n\u001b[0m",
      "\u001b[1;31mAttributeError\u001b[0m: 'NoneType' object has no attribute 'split'"
     ]
    }
   ],
   "source": [
    "test.item_description =  tokenize(test,'item_description')\n"
   ]
  },
  {
   "cell_type": "code",
   "execution_count": 144,
   "metadata": {
    "collapsed": false
   },
   "outputs": [
    {
     "data": {
      "text/plain": [
       "84    None\n",
       "85    None\n",
       "86    None\n",
       "87    None\n",
       "88    None\n",
       "Name: item_description, dtype: object"
      ]
     },
     "execution_count": 144,
     "metadata": {},
     "output_type": "execute_result"
    }
   ],
   "source": [
    "test['item_description']"
   ]
  },
  {
   "cell_type": "code",
   "execution_count": 147,
   "metadata": {
    "collapsed": false
   },
   "outputs": [
    {
     "data": {
      "text/html": [
       "<div>\n",
       "<table border=\"1\" class=\"dataframe\">\n",
       "  <thead>\n",
       "    <tr style=\"text-align: right;\">\n",
       "      <th></th>\n",
       "      <th>category_description</th>\n",
       "      <th>category_name</th>\n",
       "      <th>city</th>\n",
       "      <th>full_address</th>\n",
       "      <th>item_description</th>\n",
       "      <th>item_name</th>\n",
       "      <th>item_price</th>\n",
       "      <th>num_reviews</th>\n",
       "      <th>restaurant_category</th>\n",
       "      <th>restaurant_name</th>\n",
       "      <th>state</th>\n",
       "      <th>street_address</th>\n",
       "      <th>yelp_link</th>\n",
       "      <th>yelp_rating</th>\n",
       "      <th>zip</th>\n",
       "      <th>item_name_and_description</th>\n",
       "    </tr>\n",
       "  </thead>\n",
       "  <tbody>\n",
       "    <tr>\n",
       "      <th>84</th>\n",
       "      <td>garnished with homemade chantilly, to create y...</td>\n",
       "      <td>Krampouz Froment - Sweet Crepe</td>\n",
       "      <td>San Francisco</td>\n",
       "      <td>3108 16th St, San Francisco, CA, 94103</td>\n",
       "      <td>banana or apple or pear sweet crepe</td>\n",
       "      <td>Banane Ou Pomme Ou Poire</td>\n",
       "      <td>$5.00</td>\n",
       "      <td>1148.0</td>\n",
       "      <td>c</td>\n",
       "      <td>Ti-couz - CLOSED</td>\n",
       "      <td>CA</td>\n",
       "      <td>3108 16th St</td>\n",
       "      <td>http://www.yelp.com/biz/ti-couz-san-francisco</td>\n",
       "      <td>4.0</td>\n",
       "      <td>94103</td>\n",
       "      <td>Banane Ou Pomme Ou Poire banana or apple or pe...</td>\n",
       "    </tr>\n",
       "    <tr>\n",
       "      <th>85</th>\n",
       "      <td>garnished with homemade chantilly, to create y...</td>\n",
       "      <td>Krampouz Froment - Sweet Crepe</td>\n",
       "      <td>San Francisco</td>\n",
       "      <td>3108 16th St, San Francisco, CA, 94103</td>\n",
       "      <td>chestnut sweet crepe</td>\n",
       "      <td>Chataigne</td>\n",
       "      <td>$5.00</td>\n",
       "      <td>1148.0</td>\n",
       "      <td>c</td>\n",
       "      <td>Ti-couz - CLOSED</td>\n",
       "      <td>CA</td>\n",
       "      <td>3108 16th St</td>\n",
       "      <td>http://www.yelp.com/biz/ti-couz-san-francisco</td>\n",
       "      <td>4.0</td>\n",
       "      <td>94103</td>\n",
       "      <td>Chataigne chestnut sweet crepe</td>\n",
       "    </tr>\n",
       "    <tr>\n",
       "      <th>86</th>\n",
       "      <td>garnished with homemade chantilly, to create y...</td>\n",
       "      <td>Krampouz Froment - Sweet Crepe</td>\n",
       "      <td>San Francisco</td>\n",
       "      <td>3108 16th St, San Francisco, CA, 94103</td>\n",
       "      <td>nutella sweet crepe</td>\n",
       "      <td>Nutella</td>\n",
       "      <td>$5.00</td>\n",
       "      <td>1148.0</td>\n",
       "      <td>c</td>\n",
       "      <td>Ti-couz - CLOSED</td>\n",
       "      <td>CA</td>\n",
       "      <td>3108 16th St</td>\n",
       "      <td>http://www.yelp.com/biz/ti-couz-san-francisco</td>\n",
       "      <td>4.0</td>\n",
       "      <td>94103</td>\n",
       "      <td>Nutella nutella sweet crepe</td>\n",
       "    </tr>\n",
       "    <tr>\n",
       "      <th>87</th>\n",
       "      <td>garnished with homemade chantilly, to create y...</td>\n",
       "      <td>Krampouz Froment - Sweet Crepe</td>\n",
       "      <td>San Francisco</td>\n",
       "      <td>3108 16th St, San Francisco, CA, 94103</td>\n",
       "      <td>compote (cooked fruit) sweet crepe</td>\n",
       "      <td>Compote</td>\n",
       "      <td>$5.25</td>\n",
       "      <td>1148.0</td>\n",
       "      <td>c</td>\n",
       "      <td>Ti-couz - CLOSED</td>\n",
       "      <td>CA</td>\n",
       "      <td>3108 16th St</td>\n",
       "      <td>http://www.yelp.com/biz/ti-couz-san-francisco</td>\n",
       "      <td>4.0</td>\n",
       "      <td>94103</td>\n",
       "      <td>Compote  compote (cooked fruit) sweet crepe</td>\n",
       "    </tr>\n",
       "    <tr>\n",
       "      <th>88</th>\n",
       "      <td>garnished with homemade chantilly, to create y...</td>\n",
       "      <td>Krampouz Froment - Sweet Crepe</td>\n",
       "      <td>San Francisco</td>\n",
       "      <td>3108 16th St, San Francisco, CA, 94103</td>\n",
       "      <td>berries (with berry butter) sweet crepe</td>\n",
       "      <td>Baies</td>\n",
       "      <td>$5.75</td>\n",
       "      <td>1148.0</td>\n",
       "      <td>c</td>\n",
       "      <td>Ti-couz - CLOSED</td>\n",
       "      <td>CA</td>\n",
       "      <td>3108 16th St</td>\n",
       "      <td>http://www.yelp.com/biz/ti-couz-san-francisco</td>\n",
       "      <td>4.0</td>\n",
       "      <td>94103</td>\n",
       "      <td>Baies berries (with berry butter) sweet crepe</td>\n",
       "    </tr>\n",
       "  </tbody>\n",
       "</table>\n",
       "</div>"
      ],
      "text/plain": [
       "                                 category_description  \\\n",
       "84  garnished with homemade chantilly, to create y...   \n",
       "85  garnished with homemade chantilly, to create y...   \n",
       "86  garnished with homemade chantilly, to create y...   \n",
       "87  garnished with homemade chantilly, to create y...   \n",
       "88  garnished with homemade chantilly, to create y...   \n",
       "\n",
       "                     category_name           city  \\\n",
       "84  Krampouz Froment - Sweet Crepe  San Francisco   \n",
       "85  Krampouz Froment - Sweet Crepe  San Francisco   \n",
       "86  Krampouz Froment - Sweet Crepe  San Francisco   \n",
       "87  Krampouz Froment - Sweet Crepe  San Francisco   \n",
       "88  Krampouz Froment - Sweet Crepe  San Francisco   \n",
       "\n",
       "                              full_address  \\\n",
       "84  3108 16th St, San Francisco, CA, 94103   \n",
       "85  3108 16th St, San Francisco, CA, 94103   \n",
       "86  3108 16th St, San Francisco, CA, 94103   \n",
       "87  3108 16th St, San Francisco, CA, 94103   \n",
       "88  3108 16th St, San Francisco, CA, 94103   \n",
       "\n",
       "                           item_description                 item_name  \\\n",
       "84      banana or apple or pear sweet crepe  Banane Ou Pomme Ou Poire   \n",
       "85                     chestnut sweet crepe                 Chataigne   \n",
       "86                      nutella sweet crepe                   Nutella   \n",
       "87       compote (cooked fruit) sweet crepe                  Compote    \n",
       "88  berries (with berry butter) sweet crepe                     Baies   \n",
       "\n",
       "   item_price  num_reviews restaurant_category   restaurant_name state  \\\n",
       "84      $5.00       1148.0                   c  Ti-couz - CLOSED    CA   \n",
       "85      $5.00       1148.0                   c  Ti-couz - CLOSED    CA   \n",
       "86      $5.00       1148.0                   c  Ti-couz - CLOSED    CA   \n",
       "87      $5.25       1148.0                   c  Ti-couz - CLOSED    CA   \n",
       "88      $5.75       1148.0                   c  Ti-couz - CLOSED    CA   \n",
       "\n",
       "   street_address                                      yelp_link  yelp_rating  \\\n",
       "84   3108 16th St  http://www.yelp.com/biz/ti-couz-san-francisco          4.0   \n",
       "85   3108 16th St  http://www.yelp.com/biz/ti-couz-san-francisco          4.0   \n",
       "86   3108 16th St  http://www.yelp.com/biz/ti-couz-san-francisco          4.0   \n",
       "87   3108 16th St  http://www.yelp.com/biz/ti-couz-san-francisco          4.0   \n",
       "88   3108 16th St  http://www.yelp.com/biz/ti-couz-san-francisco          4.0   \n",
       "\n",
       "      zip                          item_name_and_description  \n",
       "84  94103  Banane Ou Pomme Ou Poire banana or apple or pe...  \n",
       "85  94103                     Chataigne chestnut sweet crepe  \n",
       "86  94103                        Nutella nutella sweet crepe  \n",
       "87  94103        Compote  compote (cooked fruit) sweet crepe  \n",
       "88  94103      Baies berries (with berry butter) sweet crepe  "
      ]
     },
     "execution_count": 147,
     "metadata": {},
     "output_type": "execute_result"
    }
   ],
   "source": [
    "test"
   ]
  },
  {
   "cell_type": "code",
   "execution_count": 148,
   "metadata": {
    "collapsed": true
   },
   "outputs": [],
   "source": [
    "test2 = test.item_name_and_description"
   ]
  },
  {
   "cell_type": "code",
   "execution_count": 149,
   "metadata": {
    "collapsed": false
   },
   "outputs": [
    {
     "data": {
      "text/plain": [
       "84    Banane Ou Pomme Ou Poire banana or apple or pe...\n",
       "85                       Chataigne chestnut sweet crepe\n",
       "86                          Nutella nutella sweet crepe\n",
       "87          Compote  compote (cooked fruit) sweet crepe\n",
       "88        Baies berries (with berry butter) sweet crepe\n",
       "Name: item_name_and_description, dtype: object"
      ]
     },
     "execution_count": 149,
     "metadata": {},
     "output_type": "execute_result"
    }
   ],
   "source": [
    "test2"
   ]
  },
  {
   "cell_type": "code",
   "execution_count": 150,
   "metadata": {
    "collapsed": false
   },
   "outputs": [
    {
     "data": {
      "text/plain": [
       "84    Banane Ou Pomme Ou Poire banana or apple or pe...\n",
       "85                       Chataigne chestnut sweet crepe\n",
       "86                          Nutella nutella sweet crepe\n",
       "87            Compote  compote cooked fruit sweet crepe\n",
       "88          Baies berries with berry butter sweet crepe\n",
       "Name: item_name_and_description, dtype: object"
      ]
     },
     "execution_count": 150,
     "metadata": {},
     "output_type": "execute_result"
    }
   ],
   "source": [
    "test2.apply(lambda x: x.translate(string.maketrans(\"\",\"\"), string.punctuation))"
   ]
  },
  {
   "cell_type": "code",
   "execution_count": null,
   "metadata": {
    "collapsed": true
   },
   "outputs": [],
   "source": []
  }
 ],
 "metadata": {
  "kernelspec": {
   "display_name": "Python [conda env:my_projects_env]",
   "language": "python",
   "name": "conda-env-my_projects_env-py"
  },
  "language_info": {
   "codemirror_mode": {
    "name": "ipython",
    "version": 2
   },
   "file_extension": ".py",
   "mimetype": "text/x-python",
   "name": "python",
   "nbconvert_exporter": "python",
   "pygments_lexer": "ipython2",
   "version": "2.7.12"
  }
 },
 "nbformat": 4,
 "nbformat_minor": 1
}

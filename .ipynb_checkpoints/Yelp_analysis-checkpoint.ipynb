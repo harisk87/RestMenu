{
 "cells": [
  {
   "cell_type": "code",
   "execution_count": 1,
   "metadata": {
    "collapsed": true
   },
   "outputs": [],
   "source": [
    "import pandas as pd"
   ]
  },
  {
   "cell_type": "code",
   "execution_count": 2,
   "metadata": {
    "collapsed": false
   },
   "outputs": [
    {
     "name": "stdout",
     "output_type": "stream",
     "text": [
      "Converting yelp_academic_dataset_business.json to yelp_academic_dataset_business.csv\n",
      "Converting yelp_academic_dataset_user.json to yelp_academic_dataset_user.csv\n"
     ]
    },
    {
     "ename": "TypeError",
     "evalue": "sequence item 0: expected string, int found",
     "output_type": "error",
     "traceback": [
      "\u001b[1;31m---------------------------------------------------------------------------\u001b[0m",
      "\u001b[1;31mTypeError\u001b[0m                                 Traceback (most recent call last)",
      "\u001b[1;32m<ipython-input-2-99e378c653ca>\u001b[0m in \u001b[0;36m<module>\u001b[1;34m()\u001b[0m\n\u001b[0;32m     25\u001b[0m     \u001b[0mcsv_filename\u001b[0m \u001b[1;33m=\u001b[0m \u001b[1;34m'%s.csv'\u001b[0m \u001b[1;33m%\u001b[0m \u001b[0mjson_filename\u001b[0m\u001b[1;33m[\u001b[0m\u001b[1;33m:\u001b[0m\u001b[1;33m-\u001b[0m\u001b[1;36m5\u001b[0m\u001b[1;33m]\u001b[0m\u001b[1;33m\u001b[0m\u001b[0m\n\u001b[0;32m     26\u001b[0m     \u001b[1;32mprint\u001b[0m \u001b[1;34m'Converting %s to %s'\u001b[0m \u001b[1;33m%\u001b[0m \u001b[1;33m(\u001b[0m\u001b[0mjson_filename\u001b[0m\u001b[1;33m,\u001b[0m \u001b[0mcsv_filename\u001b[0m\u001b[1;33m)\u001b[0m\u001b[1;33m\u001b[0m\u001b[0m\n\u001b[1;32m---> 27\u001b[1;33m     \u001b[0mdf\u001b[0m \u001b[1;33m=\u001b[0m \u001b[0mpd\u001b[0m\u001b[1;33m.\u001b[0m\u001b[0mDataFrame\u001b[0m\u001b[1;33m(\u001b[0m\u001b[1;33m[\u001b[0m\u001b[0mconvert\u001b[0m\u001b[1;33m(\u001b[0m\u001b[0mline\u001b[0m\u001b[1;33m)\u001b[0m \u001b[1;32mfor\u001b[0m \u001b[0mline\u001b[0m \u001b[1;32min\u001b[0m \u001b[0mfile\u001b[0m\u001b[1;33m(\u001b[0m\u001b[0mjson_filename\u001b[0m\u001b[1;33m)\u001b[0m\u001b[1;33m]\u001b[0m\u001b[1;33m)\u001b[0m\u001b[1;33m\u001b[0m\u001b[0m\n\u001b[0m\u001b[0;32m     28\u001b[0m     \u001b[0mdf\u001b[0m\u001b[1;33m.\u001b[0m\u001b[0mto_csv\u001b[0m\u001b[1;33m(\u001b[0m\u001b[0mcsv_filename\u001b[0m\u001b[1;33m,\u001b[0m \u001b[0mencoding\u001b[0m\u001b[1;33m=\u001b[0m\u001b[1;34m'utf-8'\u001b[0m\u001b[1;33m,\u001b[0m \u001b[0mindex\u001b[0m\u001b[1;33m=\u001b[0m\u001b[0mFalse\u001b[0m\u001b[1;33m)\u001b[0m\u001b[1;33m\u001b[0m\u001b[0m\n",
      "\u001b[1;32m<ipython-input-2-99e378c653ca>\u001b[0m in \u001b[0;36mconvert\u001b[1;34m(x)\u001b[0m\n\u001b[0;32m     15\u001b[0m     \u001b[1;32mfor\u001b[0m \u001b[0mk\u001b[0m\u001b[1;33m,\u001b[0m \u001b[0mv\u001b[0m \u001b[1;32min\u001b[0m \u001b[0mob\u001b[0m\u001b[1;33m.\u001b[0m\u001b[0mitems\u001b[0m\u001b[1;33m(\u001b[0m\u001b[1;33m)\u001b[0m\u001b[1;33m:\u001b[0m\u001b[1;33m\u001b[0m\u001b[0m\n\u001b[0;32m     16\u001b[0m         \u001b[1;32mif\u001b[0m \u001b[0misinstance\u001b[0m\u001b[1;33m(\u001b[0m\u001b[0mv\u001b[0m\u001b[1;33m,\u001b[0m \u001b[0mlist\u001b[0m\u001b[1;33m)\u001b[0m\u001b[1;33m:\u001b[0m\u001b[1;33m\u001b[0m\u001b[0m\n\u001b[1;32m---> 17\u001b[1;33m             \u001b[0mob\u001b[0m\u001b[1;33m[\u001b[0m\u001b[0mk\u001b[0m\u001b[1;33m]\u001b[0m \u001b[1;33m=\u001b[0m \u001b[1;34m','\u001b[0m\u001b[1;33m.\u001b[0m\u001b[0mjoin\u001b[0m\u001b[1;33m(\u001b[0m\u001b[0mv\u001b[0m\u001b[1;33m)\u001b[0m\u001b[1;33m\u001b[0m\u001b[0m\n\u001b[0m\u001b[0;32m     18\u001b[0m         \u001b[1;32melif\u001b[0m \u001b[0misinstance\u001b[0m\u001b[1;33m(\u001b[0m\u001b[0mv\u001b[0m\u001b[1;33m,\u001b[0m \u001b[0mdict\u001b[0m\u001b[1;33m)\u001b[0m\u001b[1;33m:\u001b[0m\u001b[1;33m\u001b[0m\u001b[0m\n\u001b[0;32m     19\u001b[0m             \u001b[1;32mfor\u001b[0m \u001b[0mkk\u001b[0m\u001b[1;33m,\u001b[0m \u001b[0mvv\u001b[0m \u001b[1;32min\u001b[0m \u001b[0mv\u001b[0m\u001b[1;33m.\u001b[0m\u001b[0mitems\u001b[0m\u001b[1;33m(\u001b[0m\u001b[1;33m)\u001b[0m\u001b[1;33m:\u001b[0m\u001b[1;33m\u001b[0m\u001b[0m\n",
      "\u001b[1;31mTypeError\u001b[0m: sequence item 0: expected string, int found"
     ]
    }
   ],
   "source": [
    "'''\n",
    "Convert Yelp Academic Dataset from JSON to CSV\n",
    "Requires Pandas (https://pypi.python.org/pypi/pandas)\n",
    "By Paul Butler, No Rights Reserved\n",
    "'''\n",
    "\n",
    "import json\n",
    "import pandas as pd\n",
    "from glob import glob\n",
    "\n",
    "def convert(x):\n",
    "    ''' Convert a json string to a flat python dictionary\n",
    "    which can be passed into Pandas. '''\n",
    "    ob = json.loads(x)\n",
    "    for k, v in ob.items():\n",
    "        if isinstance(v, list):\n",
    "            ob[k] = ','.join(v)\n",
    "        elif isinstance(v, dict):\n",
    "            for kk, vv in v.items():\n",
    "                ob['%s_%s' % (k, kk)] = vv\n",
    "            del ob[k]\n",
    "    return ob\n",
    "\n",
    "for json_filename in glob('*.json'):\n",
    "    csv_filename = '%s.csv' % json_filename[:-5]\n",
    "    print 'Converting %s to %s' % (json_filename, csv_filename)\n",
    "    df = pd.DataFrame([convert(line) for line in file(json_filename)])\n",
    "    df.to_csv(csv_filename, encoding='utf-8', index=False)"
   ]
  },
  {
   "cell_type": "code",
   "execution_count": 3,
   "metadata": {
    "collapsed": false
   },
   "outputs": [
    {
     "name": "stdout",
     "output_type": "stream",
     "text": [
      "2016_Internet_Trends_FINAL.pdf\r\n",
      "2016_yelp_dataset_challenge_photos.tar\r\n",
      "BL2013_MF1599_v2.1.csv\r\n",
      "cuda\r\n",
      "Dataset_Challenge_Academic_Dataset_Agreement.pdf\r\n",
      "ns_sabins_ccd_0910_00_april2013.zip\r\n",
      "OULAD.zip\r\n",
      "Sivakumar 8.31.16 Unemp. termination Report.pdf\r\n",
      "Software\r\n",
      "Untitled.ipynb\r\n",
      "yelp_academic_dataset_business.csv\r\n",
      "yelp_academic_dataset_business.json\r\n",
      "yelp_academic_dataset_checkin.json\r\n",
      "yelp_academic_dataset_review.json\r\n",
      "yelp_academic_dataset_tip.json\r\n",
      "yelp_academic_dataset_user.json\r\n",
      "Yelp data.ipynb\r\n",
      "yelp_dataset_challenge_academic_dataset.tar\r\n",
      "Yelp_Dataset_Challenge_Terms_round_8.pdf\r\n"
     ]
    }
   ],
   "source": [
    "!ls"
   ]
  },
  {
   "cell_type": "code",
   "execution_count": 5,
   "metadata": {
    "collapsed": false
   },
   "outputs": [
    {
     "name": "stderr",
     "output_type": "stream",
     "text": [
      "/home/harisk87/anaconda2/envs/my_projects_env/lib/python2.7/site-packages/IPython/core/interactiveshell.py:2723: DtypeWarning: Columns (6,7,11,25,26) have mixed types. Specify dtype option on import or set low_memory=False.\n",
      "  interactivity=interactivity, compiler=compiler, result=result)\n"
     ]
    }
   ],
   "source": [
    "df =pd.read_csv('yelp_academic_dataset_business.csv')"
   ]
  },
  {
   "cell_type": "code",
   "execution_count": 14,
   "metadata": {
    "collapsed": false
   },
   "outputs": [
    {
     "data": {
      "text/html": [
       "<div>\n",
       "<table border=\"1\" class=\"dataframe\">\n",
       "  <thead>\n",
       "    <tr style=\"text-align: right;\">\n",
       "      <th></th>\n",
       "      <th>attributes_Accepts Credit Cards</th>\n",
       "      <th>attributes_Accepts Insurance</th>\n",
       "      <th>attributes_Ages Allowed</th>\n",
       "      <th>attributes_Alcohol</th>\n",
       "      <th>attributes_Ambience</th>\n",
       "      <th>attributes_Attire</th>\n",
       "      <th>attributes_BYOB</th>\n",
       "      <th>attributes_BYOB/Corkage</th>\n",
       "      <th>attributes_By Appointment Only</th>\n",
       "      <th>attributes_Caters</th>\n",
       "      <th>attributes_Coat Check</th>\n",
       "      <th>attributes_Corkage</th>\n",
       "      <th>attributes_Delivery</th>\n",
       "      <th>attributes_Dietary Restrictions</th>\n",
       "      <th>attributes_Dogs Allowed</th>\n",
       "      <th>attributes_Drive-Thru</th>\n",
       "      <th>attributes_Good For</th>\n",
       "      <th>attributes_Good For Dancing</th>\n",
       "      <th>attributes_Good For Groups</th>\n",
       "      <th>attributes_Good for Kids</th>\n",
       "      <th>attributes_Hair Types Specialized In</th>\n",
       "      <th>attributes_Happy Hour</th>\n",
       "      <th>attributes_Has TV</th>\n",
       "      <th>attributes_Music</th>\n",
       "      <th>attributes_Noise Level</th>\n",
       "      <th>attributes_Open 24 Hours</th>\n",
       "      <th>attributes_Order at Counter</th>\n",
       "      <th>attributes_Outdoor Seating</th>\n",
       "      <th>attributes_Parking</th>\n",
       "      <th>attributes_Price Range</th>\n",
       "      <th>attributes_Smoking</th>\n",
       "      <th>attributes_Take-out</th>\n",
       "      <th>attributes_Takes Reservations</th>\n",
       "      <th>attributes_Waiter Service</th>\n",
       "      <th>attributes_Wheelchair Accessible</th>\n",
       "      <th>attributes_Wi-Fi</th>\n",
       "      <th>business_id</th>\n",
       "      <th>categories</th>\n",
       "      <th>city</th>\n",
       "      <th>full_address</th>\n",
       "      <th>hours_Friday</th>\n",
       "      <th>hours_Monday</th>\n",
       "      <th>hours_Saturday</th>\n",
       "      <th>hours_Sunday</th>\n",
       "      <th>hours_Thursday</th>\n",
       "      <th>hours_Tuesday</th>\n",
       "      <th>hours_Wednesday</th>\n",
       "      <th>latitude</th>\n",
       "      <th>longitude</th>\n",
       "      <th>name</th>\n",
       "      <th>neighborhoods</th>\n",
       "      <th>open</th>\n",
       "      <th>review_count</th>\n",
       "      <th>stars</th>\n",
       "      <th>state</th>\n",
       "      <th>type</th>\n",
       "    </tr>\n",
       "  </thead>\n",
       "  <tbody>\n",
       "    <tr>\n",
       "      <th>0</th>\n",
       "      <td>True</td>\n",
       "      <td>NaN</td>\n",
       "      <td>NaN</td>\n",
       "      <td>none</td>\n",
       "      <td>{u'romantic': False, u'intimate': False, u'cla...</td>\n",
       "      <td>casual</td>\n",
       "      <td>NaN</td>\n",
       "      <td>NaN</td>\n",
       "      <td>NaN</td>\n",
       "      <td>False</td>\n",
       "      <td>NaN</td>\n",
       "      <td>NaN</td>\n",
       "      <td>False</td>\n",
       "      <td>NaN</td>\n",
       "      <td>NaN</td>\n",
       "      <td>False</td>\n",
       "      <td>{u'dessert': False, u'latenight': False, u'lun...</td>\n",
       "      <td>NaN</td>\n",
       "      <td>True</td>\n",
       "      <td>True</td>\n",
       "      <td>NaN</td>\n",
       "      <td>NaN</td>\n",
       "      <td>False</td>\n",
       "      <td>NaN</td>\n",
       "      <td>average</td>\n",
       "      <td>NaN</td>\n",
       "      <td>NaN</td>\n",
       "      <td>False</td>\n",
       "      <td>{u'garage': False, u'street': False, u'validat...</td>\n",
       "      <td>1.0</td>\n",
       "      <td>NaN</td>\n",
       "      <td>True</td>\n",
       "      <td>False</td>\n",
       "      <td>False</td>\n",
       "      <td>NaN</td>\n",
       "      <td>NaN</td>\n",
       "      <td>5UmKMjUEUNdYWqANhGckJw</td>\n",
       "      <td>Fast Food,Restaurants</td>\n",
       "      <td>Dravosburg</td>\n",
       "      <td>4734 Lebanon Church Rd\\nDravosburg, PA 15034</td>\n",
       "      <td>{u'close': u'21:00', u'open': u'11:00'}</td>\n",
       "      <td>{u'close': u'21:00', u'open': u'11:00'}</td>\n",
       "      <td>NaN</td>\n",
       "      <td>NaN</td>\n",
       "      <td>{u'close': u'21:00', u'open': u'11:00'}</td>\n",
       "      <td>{u'close': u'21:00', u'open': u'11:00'}</td>\n",
       "      <td>{u'close': u'21:00', u'open': u'11:00'}</td>\n",
       "      <td>40.354327</td>\n",
       "      <td>-79.900706</td>\n",
       "      <td>Mr Hoagie</td>\n",
       "      <td>NaN</td>\n",
       "      <td>True</td>\n",
       "      <td>7</td>\n",
       "      <td>3.5</td>\n",
       "      <td>PA</td>\n",
       "      <td>business</td>\n",
       "    </tr>\n",
       "  </tbody>\n",
       "</table>\n",
       "</div>"
      ],
      "text/plain": [
       "  attributes_Accepts Credit Cards attributes_Accepts Insurance  \\\n",
       "0                            True                          NaN   \n",
       "\n",
       "  attributes_Ages Allowed attributes_Alcohol  \\\n",
       "0                     NaN               none   \n",
       "\n",
       "                                 attributes_Ambience attributes_Attire  \\\n",
       "0  {u'romantic': False, u'intimate': False, u'cla...            casual   \n",
       "\n",
       "  attributes_BYOB attributes_BYOB/Corkage attributes_By Appointment Only  \\\n",
       "0             NaN                     NaN                            NaN   \n",
       "\n",
       "  attributes_Caters attributes_Coat Check attributes_Corkage  \\\n",
       "0             False                   NaN                NaN   \n",
       "\n",
       "  attributes_Delivery attributes_Dietary Restrictions attributes_Dogs Allowed  \\\n",
       "0               False                             NaN                     NaN   \n",
       "\n",
       "  attributes_Drive-Thru                                attributes_Good For  \\\n",
       "0                 False  {u'dessert': False, u'latenight': False, u'lun...   \n",
       "\n",
       "  attributes_Good For Dancing attributes_Good For Groups  \\\n",
       "0                         NaN                       True   \n",
       "\n",
       "  attributes_Good for Kids attributes_Hair Types Specialized In  \\\n",
       "0                     True                                  NaN   \n",
       "\n",
       "  attributes_Happy Hour attributes_Has TV attributes_Music  \\\n",
       "0                   NaN             False              NaN   \n",
       "\n",
       "  attributes_Noise Level attributes_Open 24 Hours attributes_Order at Counter  \\\n",
       "0                average                      NaN                         NaN   \n",
       "\n",
       "  attributes_Outdoor Seating  \\\n",
       "0                      False   \n",
       "\n",
       "                                  attributes_Parking  attributes_Price Range  \\\n",
       "0  {u'garage': False, u'street': False, u'validat...                     1.0   \n",
       "\n",
       "  attributes_Smoking attributes_Take-out attributes_Takes Reservations  \\\n",
       "0                NaN                True                         False   \n",
       "\n",
       "  attributes_Waiter Service attributes_Wheelchair Accessible attributes_Wi-Fi  \\\n",
       "0                     False                              NaN              NaN   \n",
       "\n",
       "              business_id             categories        city  \\\n",
       "0  5UmKMjUEUNdYWqANhGckJw  Fast Food,Restaurants  Dravosburg   \n",
       "\n",
       "                                   full_address  \\\n",
       "0  4734 Lebanon Church Rd\\nDravosburg, PA 15034   \n",
       "\n",
       "                              hours_Friday  \\\n",
       "0  {u'close': u'21:00', u'open': u'11:00'}   \n",
       "\n",
       "                              hours_Monday hours_Saturday hours_Sunday  \\\n",
       "0  {u'close': u'21:00', u'open': u'11:00'}            NaN          NaN   \n",
       "\n",
       "                            hours_Thursday  \\\n",
       "0  {u'close': u'21:00', u'open': u'11:00'}   \n",
       "\n",
       "                             hours_Tuesday  \\\n",
       "0  {u'close': u'21:00', u'open': u'11:00'}   \n",
       "\n",
       "                           hours_Wednesday   latitude  longitude       name  \\\n",
       "0  {u'close': u'21:00', u'open': u'11:00'}  40.354327 -79.900706  Mr Hoagie   \n",
       "\n",
       "  neighborhoods  open  review_count  stars state      type  \n",
       "0           NaN  True             7    3.5    PA  business  "
      ]
     },
     "execution_count": 14,
     "metadata": {},
     "output_type": "execute_result"
    }
   ],
   "source": [
    "df.head(1)"
   ]
  },
  {
   "cell_type": "code",
   "execution_count": 7,
   "metadata": {
    "collapsed": false
   },
   "outputs": [
    {
     "data": {
      "text/plain": [
       "(85901, 56)"
      ]
     },
     "execution_count": 7,
     "metadata": {},
     "output_type": "execute_result"
    }
   ],
   "source": [
    "df.shape"
   ]
  },
  {
   "cell_type": "code",
   "execution_count": 8,
   "metadata": {
    "collapsed": false
   },
   "outputs": [
    {
     "data": {
      "text/plain": [
       "Index([u'attributes_Accepts Credit Cards', u'attributes_Accepts Insurance',\n",
       "       u'attributes_Ages Allowed', u'attributes_Alcohol',\n",
       "       u'attributes_Ambience', u'attributes_Attire', u'attributes_BYOB',\n",
       "       u'attributes_BYOB/Corkage', u'attributes_By Appointment Only',\n",
       "       u'attributes_Caters', u'attributes_Coat Check', u'attributes_Corkage',\n",
       "       u'attributes_Delivery', u'attributes_Dietary Restrictions',\n",
       "       u'attributes_Dogs Allowed', u'attributes_Drive-Thru',\n",
       "       u'attributes_Good For', u'attributes_Good For Dancing',\n",
       "       u'attributes_Good For Groups', u'attributes_Good for Kids',\n",
       "       u'attributes_Hair Types Specialized In', u'attributes_Happy Hour',\n",
       "       u'attributes_Has TV', u'attributes_Music', u'attributes_Noise Level',\n",
       "       u'attributes_Open 24 Hours', u'attributes_Order at Counter',\n",
       "       u'attributes_Outdoor Seating', u'attributes_Parking',\n",
       "       u'attributes_Price Range', u'attributes_Smoking',\n",
       "       u'attributes_Take-out', u'attributes_Takes Reservations',\n",
       "       u'attributes_Waiter Service', u'attributes_Wheelchair Accessible',\n",
       "       u'attributes_Wi-Fi', u'business_id', u'categories', u'city',\n",
       "       u'full_address', u'hours_Friday', u'hours_Monday', u'hours_Saturday',\n",
       "       u'hours_Sunday', u'hours_Thursday', u'hours_Tuesday',\n",
       "       u'hours_Wednesday', u'latitude', u'longitude', u'name',\n",
       "       u'neighborhoods', u'open', u'review_count', u'stars', u'state',\n",
       "       u'type'],\n",
       "      dtype='object')"
      ]
     },
     "execution_count": 8,
     "metadata": {},
     "output_type": "execute_result"
    }
   ],
   "source": [
    "df.columns"
   ]
  },
  {
   "cell_type": "code",
   "execution_count": 10,
   "metadata": {
    "collapsed": true
   },
   "outputs": [],
   "source": [
    "pd.set_option('display.max_columns', None)"
   ]
  },
  {
   "cell_type": "code",
   "execution_count": 2,
   "metadata": {
    "collapsed": true
   },
   "outputs": [],
   "source": [
    "import json"
   ]
  },
  {
   "cell_type": "code",
   "execution_count": 3,
   "metadata": {
    "collapsed": false
   },
   "outputs": [
    {
     "ename": "ValueError",
     "evalue": "Extra data: line 2 column 1 - line 61050 column 1 (char 176 - 28048532)",
     "output_type": "error",
     "traceback": [
      "\u001b[1;31m---------------------------------------------------------------------------\u001b[0m",
      "\u001b[1;31mValueError\u001b[0m                                Traceback (most recent call last)",
      "\u001b[1;32m<ipython-input-3-84f95dc53c5b>\u001b[0m in \u001b[0;36m<module>\u001b[1;34m()\u001b[0m\n\u001b[0;32m      1\u001b[0m \u001b[1;32mwith\u001b[0m \u001b[0mopen\u001b[0m\u001b[1;33m(\u001b[0m\u001b[1;34m'yelp_academic_dataset_checkin.json'\u001b[0m\u001b[1;33m)\u001b[0m \u001b[1;32mas\u001b[0m \u001b[0mdata_file\u001b[0m\u001b[1;33m:\u001b[0m\u001b[1;33m\u001b[0m\u001b[0m\n\u001b[1;32m----> 2\u001b[1;33m     \u001b[0mdata\u001b[0m \u001b[1;33m=\u001b[0m \u001b[0mjson\u001b[0m\u001b[1;33m.\u001b[0m\u001b[0mload\u001b[0m\u001b[1;33m(\u001b[0m\u001b[0mdata_file\u001b[0m\u001b[1;33m)\u001b[0m\u001b[1;33m\u001b[0m\u001b[0m\n\u001b[0m",
      "\u001b[1;32m/home/harisk87/anaconda2/envs/my_projects_env/lib/python2.7/json/__init__.pyc\u001b[0m in \u001b[0;36mload\u001b[1;34m(fp, encoding, cls, object_hook, parse_float, parse_int, parse_constant, object_pairs_hook, **kw)\u001b[0m\n\u001b[0;32m    289\u001b[0m         \u001b[0mparse_float\u001b[0m\u001b[1;33m=\u001b[0m\u001b[0mparse_float\u001b[0m\u001b[1;33m,\u001b[0m \u001b[0mparse_int\u001b[0m\u001b[1;33m=\u001b[0m\u001b[0mparse_int\u001b[0m\u001b[1;33m,\u001b[0m\u001b[1;33m\u001b[0m\u001b[0m\n\u001b[0;32m    290\u001b[0m         \u001b[0mparse_constant\u001b[0m\u001b[1;33m=\u001b[0m\u001b[0mparse_constant\u001b[0m\u001b[1;33m,\u001b[0m \u001b[0mobject_pairs_hook\u001b[0m\u001b[1;33m=\u001b[0m\u001b[0mobject_pairs_hook\u001b[0m\u001b[1;33m,\u001b[0m\u001b[1;33m\u001b[0m\u001b[0m\n\u001b[1;32m--> 291\u001b[1;33m         **kw)\n\u001b[0m\u001b[0;32m    292\u001b[0m \u001b[1;33m\u001b[0m\u001b[0m\n\u001b[0;32m    293\u001b[0m \u001b[1;33m\u001b[0m\u001b[0m\n",
      "\u001b[1;32m/home/harisk87/anaconda2/envs/my_projects_env/lib/python2.7/json/__init__.pyc\u001b[0m in \u001b[0;36mloads\u001b[1;34m(s, encoding, cls, object_hook, parse_float, parse_int, parse_constant, object_pairs_hook, **kw)\u001b[0m\n\u001b[0;32m    337\u001b[0m             \u001b[0mparse_int\u001b[0m \u001b[1;32mis\u001b[0m \u001b[0mNone\u001b[0m \u001b[1;32mand\u001b[0m \u001b[0mparse_float\u001b[0m \u001b[1;32mis\u001b[0m \u001b[0mNone\u001b[0m \u001b[1;32mand\u001b[0m\u001b[1;33m\u001b[0m\u001b[0m\n\u001b[0;32m    338\u001b[0m             parse_constant is None and object_pairs_hook is None and not kw):\n\u001b[1;32m--> 339\u001b[1;33m         \u001b[1;32mreturn\u001b[0m \u001b[0m_default_decoder\u001b[0m\u001b[1;33m.\u001b[0m\u001b[0mdecode\u001b[0m\u001b[1;33m(\u001b[0m\u001b[0ms\u001b[0m\u001b[1;33m)\u001b[0m\u001b[1;33m\u001b[0m\u001b[0m\n\u001b[0m\u001b[0;32m    340\u001b[0m     \u001b[1;32mif\u001b[0m \u001b[0mcls\u001b[0m \u001b[1;32mis\u001b[0m \u001b[0mNone\u001b[0m\u001b[1;33m:\u001b[0m\u001b[1;33m\u001b[0m\u001b[0m\n\u001b[0;32m    341\u001b[0m         \u001b[0mcls\u001b[0m \u001b[1;33m=\u001b[0m \u001b[0mJSONDecoder\u001b[0m\u001b[1;33m\u001b[0m\u001b[0m\n",
      "\u001b[1;32m/home/harisk87/anaconda2/envs/my_projects_env/lib/python2.7/json/decoder.pyc\u001b[0m in \u001b[0;36mdecode\u001b[1;34m(self, s, _w)\u001b[0m\n\u001b[0;32m    365\u001b[0m         \u001b[0mend\u001b[0m \u001b[1;33m=\u001b[0m \u001b[0m_w\u001b[0m\u001b[1;33m(\u001b[0m\u001b[0ms\u001b[0m\u001b[1;33m,\u001b[0m \u001b[0mend\u001b[0m\u001b[1;33m)\u001b[0m\u001b[1;33m.\u001b[0m\u001b[0mend\u001b[0m\u001b[1;33m(\u001b[0m\u001b[1;33m)\u001b[0m\u001b[1;33m\u001b[0m\u001b[0m\n\u001b[0;32m    366\u001b[0m         \u001b[1;32mif\u001b[0m \u001b[0mend\u001b[0m \u001b[1;33m!=\u001b[0m \u001b[0mlen\u001b[0m\u001b[1;33m(\u001b[0m\u001b[0ms\u001b[0m\u001b[1;33m)\u001b[0m\u001b[1;33m:\u001b[0m\u001b[1;33m\u001b[0m\u001b[0m\n\u001b[1;32m--> 367\u001b[1;33m             \u001b[1;32mraise\u001b[0m \u001b[0mValueError\u001b[0m\u001b[1;33m(\u001b[0m\u001b[0merrmsg\u001b[0m\u001b[1;33m(\u001b[0m\u001b[1;34m\"Extra data\"\u001b[0m\u001b[1;33m,\u001b[0m \u001b[0ms\u001b[0m\u001b[1;33m,\u001b[0m \u001b[0mend\u001b[0m\u001b[1;33m,\u001b[0m \u001b[0mlen\u001b[0m\u001b[1;33m(\u001b[0m\u001b[0ms\u001b[0m\u001b[1;33m)\u001b[0m\u001b[1;33m)\u001b[0m\u001b[1;33m)\u001b[0m\u001b[1;33m\u001b[0m\u001b[0m\n\u001b[0m\u001b[0;32m    368\u001b[0m         \u001b[1;32mreturn\u001b[0m \u001b[0mobj\u001b[0m\u001b[1;33m\u001b[0m\u001b[0m\n\u001b[0;32m    369\u001b[0m \u001b[1;33m\u001b[0m\u001b[0m\n",
      "\u001b[1;31mValueError\u001b[0m: Extra data: line 2 column 1 - line 61050 column 1 (char 176 - 28048532)"
     ]
    }
   ],
   "source": [
    "with open('yelp_academic_dataset_checkin.json') as data_file:    \n",
    "    data = json.load(data_file)"
   ]
  },
  {
   "cell_type": "code",
   "execution_count": null,
   "metadata": {
    "collapsed": true
   },
   "outputs": [],
   "source": []
  }
 ],
 "metadata": {
  "anaconda-cloud": {},
  "kernelspec": {
   "display_name": "Python [conda env:my_projects_env]",
   "language": "python",
   "name": "conda-env-my_projects_env-py"
  },
  "language_info": {
   "codemirror_mode": {
    "name": "ipython",
    "version": 2
   },
   "file_extension": ".py",
   "mimetype": "text/x-python",
   "name": "python",
   "nbconvert_exporter": "python",
   "pygments_lexer": "ipython2",
   "version": "2.7.12"
  }
 },
 "nbformat": 4,
 "nbformat_minor": 1
}
